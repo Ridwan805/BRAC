{
  "cells": [
    {
      "cell_type": "markdown",
      "metadata": {
        "id": "8pEm4kxLqhN7"
      },
      "source": [
        "Make sure you remove `raise NotImplementedError()` and fill in any place that says `# YOUR CODE HERE`, as well as your `NAME`, `ID`, and `SECTION` below:"
      ]
    },
    {
      "cell_type": "code",
      "execution_count": null,
      "metadata": {
        "id": "N6FXZz_eqhN9"
      },
      "outputs": [],
      "source": [
        "NAME = \"Ridwanur Rahman\"\n",
        "ID = \"22301532\"\n",
        "SECTION = \"09\""
      ]
    },
    {
      "cell_type": "markdown",
      "metadata": {
        "id": "D1WB3NXNqhN-"
      },
      "source": [
        "---"
      ]
    },
    {
      "cell_type": "markdown",
      "metadata": {
        "deletable": false,
        "editable": false,
        "nbgrader": {
          "cell_type": "markdown",
          "checksum": "4323c48f5d5276b38804080cab43e0d5",
          "grade": false,
          "grade_id": "title",
          "locked": true,
          "schema_version": 3,
          "solution": false,
          "task": false
        },
        "id": "8BwuBD__qhN-"
      },
      "source": [
        "Part 1: Polynomial Root Finding Using Bisection Method\n",
        "---\n",
        "\n",
        "### `pandas` Dataframe:\n",
        "Before we start we will know a little about `pandas` dataframe. `pandas` is a python library. Dataframes are classes that are used to store complex data. You can initialize one as a python dictionary. Let's take a look."
      ]
    },
    {
      "cell_type": "code",
      "execution_count": null,
      "metadata": {
        "deletable": false,
        "editable": false,
        "nbgrader": {
          "cell_type": "code",
          "checksum": "adc6b91c35993f4ecedcfd53d807a206",
          "grade": false,
          "grade_id": "pd",
          "locked": true,
          "schema_version": 3,
          "solution": false,
          "task": false
        },
        "id": "F1iPegcMqhN-"
      },
      "outputs": [],
      "source": [
        "import pandas as pd\n",
        "\n",
        "x = [0, 1, 2, 3, 4, 5, 6, 7]\n",
        "y = [1.0, 5.2, 3.9, 8.4, 14.6, 12.3, 8.9, 10.2]\n",
        "\n",
        "dictionary = {\n",
        "    \"x\": x,\n",
        "    \"y\": y,\n",
        "}\n",
        "df = pd.DataFrame(dictionary)\n",
        "df.head(8)"
      ]
    },
    {
      "cell_type": "markdown",
      "metadata": {
        "deletable": false,
        "editable": false,
        "nbgrader": {
          "cell_type": "markdown",
          "checksum": "e8de09a00f2f32f8cfbb6b7823ebb992",
          "grade": false,
          "grade_id": "np_into",
          "locked": true,
          "schema_version": 3,
          "solution": false,
          "task": false
        },
        "id": "o1qgr3HYqhN_"
      },
      "source": [
        "We can use it to print data in a tabular format. We can even use more numpy arrays with it."
      ]
    },
    {
      "cell_type": "code",
      "execution_count": null,
      "metadata": {
        "deletable": false,
        "editable": false,
        "nbgrader": {
          "cell_type": "code",
          "checksum": "b7b72bb172e2e46389ca4f41fd18628d",
          "grade": false,
          "grade_id": "np",
          "locked": true,
          "schema_version": 3,
          "solution": false,
          "task": false
        },
        "id": "gT5eXzSxqhN_"
      },
      "outputs": [],
      "source": [
        "import numpy as np\n",
        "\n",
        "x = np.linspace(0, np.pi/2, 15)\n",
        "y = np.sin(x)\n",
        "\n",
        "dictionary = {\n",
        "    \"x\": x,\n",
        "    \"sin(x)\": y,\n",
        "}\n",
        "df = pd.DataFrame(dictionary)\n",
        "df.head(15)"
      ]
    },
    {
      "cell_type": "markdown",
      "metadata": {
        "deletable": false,
        "editable": false,
        "nbgrader": {
          "cell_type": "markdown",
          "checksum": "2e1c412437306d2e9b0078176867e80c",
          "grade": false,
          "grade_id": "root_intro",
          "locked": true,
          "schema_version": 3,
          "solution": false,
          "task": false
        },
        "id": "2LJFoJfEqhN_"
      },
      "source": [
        "### Root Finding:\n",
        "Let $f(x)$ be a function of $x$. if for some $x=\\alpha, f(x) = f(\\alpha) = 0$, we say $\\alpha$ is a root of function $x$.\n",
        "\n",
        "Let,\n",
        "$$f(x) = x^5 + 2.5x^4 - 2x^3 -6x^2 + 0.5x + 2\\tag{6.1}$$\n",
        "\n",
        "The graph of $f(x)$ looks like this."
      ]
    },
    {
      "cell_type": "code",
      "execution_count": null,
      "metadata": {
        "deletable": false,
        "editable": false,
        "nbgrader": {
          "cell_type": "code",
          "checksum": "023d32066c1625932a80604228bac0d6",
          "grade": false,
          "grade_id": "example",
          "locked": true,
          "schema_version": 3,
          "solution": false,
          "task": false
        },
        "id": "iiIEjH97qhN_"
      },
      "outputs": [],
      "source": [
        "from numpy.polynomial import Polynomial\n",
        "import matplotlib.pyplot as plt\n",
        "\n",
        "f = Polynomial([2.0, 0.5, -6.0, -2.0, 2.5, 1.0])\n",
        "x = np.linspace(-2.5, 1.5, 100)\n",
        "y = f(x)\n",
        "dictionary = {\n",
        "    'x': x,\n",
        "    'y': y\n",
        "}\n",
        "plt.axhline(y=0, color='r')\n",
        "plt.plot(x, y,'y')\n",
        "plt.plot(f.roots(), [0.0]*5, 'go')\n",
        "print(f.roots())"
      ]
    },
    {
      "cell_type": "markdown",
      "metadata": {
        "deletable": false,
        "editable": false,
        "nbgrader": {
          "cell_type": "markdown",
          "checksum": "a77a2920b884f394a02829392b097131",
          "grade": false,
          "grade_id": "bisection_intro",
          "locked": true,
          "schema_version": 3,
          "solution": false,
          "task": false
        },
        "id": "ZDBo-CT3qhOA"
      },
      "source": [
        "Roots are the points where the graph intersects with the $X$-axis.\n",
        "\n",
        "### Bisection\n",
        "\n",
        "One way to find out root's are to use bisection method. Here is the strategy, if $\\alpha$ is a root between and interval $[a, b]$ then graph will cross the $X$-axis at $\\alpha$. So, $sign( f(\\alpha-h) ) = - sign( f(\\alpha+h) )$, for small value of $h$.\n",
        "\n",
        "So, we can work our way up towards the root by taking average of $a$ and $b$, as long as the signs are different.\n",
        "\n",
        "we will start with $a_0$ and $b_0$, such that, $f(a_0) f(b_0) < 0$.\n",
        "Then we iterate as this,\n",
        "\\begin{align}\n",
        "m_k &= \\frac{a_k + b_k}{2} \\\\\n",
        "\\text{if, } f(a_k) f(m_k) < 0, \\text{ then, } a_{k+1} &= a_k \\text{ and } b_{k+1} = m_k\\\\\n",
        "\\text{else, } a_{k+1} &= m_k \\text{ and, } b_{k+1} = b_k\n",
        "\\end{align}\n",
        "\n",
        "We keep iterating until we find the root with sufficient precision. We usually use a formula like this,\n",
        "$$\n",
        "\\frac{|m_{k+1} - m_k|}{|m_{k+1}|} \\leq \\epsilon \\\\  \n",
        "$$\n",
        "Where, $\\epsilon$ is a very small value, like $\\epsilon < 10^{-6}$\n",
        "\n",
        "### Complete the code below\n",
        "Complete the code below to iterate and solve for a root of the following equation, between the interval, $[-0.5, 1.3]$:\n",
        "\\begin{aligned}\n",
        "    f(x) = 2 + 0.5x - 6x^2 - 2x^3 + 2.5x^4 + x^5.\n",
        "\\end{aligned}"
      ]
    },
    {
      "cell_type": "code",
      "execution_count": null,
      "metadata": {
        "deletable": false,
        "nbgrader": {
          "cell_type": "code",
          "checksum": "250514194ec182b83282f90c837cb559",
          "grade": false,
          "grade_id": "ans",
          "locked": false,
          "schema_version": 3,
          "solution": true,
          "task": false
        },
        "id": "vcMvvqN4qhOA"
      },
      "outputs": [],
      "source": [
        "import numpy as np\n",
        "import pandas as pd\n",
        "import matplotlib.pyplot as plt\n",
        "from numpy.polynomial import Polynomial\n",
        "\n",
        "# The polynomial and the range is defined for you\n",
        "f = Polynomial([2.0, 0.5, -6.0, -2.0, 2.5, 1.0])\n",
        "a = -0.5\n",
        "b = 1.3\n",
        "m = (a + b) / 2\n",
        "e = 1e-6\n",
        "\n",
        "root = 0.0    # You need to update this value\n",
        "\n",
        "# Populate the following lists in each iteration\n",
        "list_a = []\n",
        "list_b = []\n",
        "list_m = []\n",
        "list_f = []\n",
        "\n",
        "# YOUR CODE HERE\n",
        "\n",
        "root_found = False\n",
        "while not root_found:\n",
        "  list_a.append(a)\n",
        "  list_b.append(b)\n",
        "  list_m.append(m)\n",
        "  list_f.append(f(m))\n",
        "  if f(m) == 0:\n",
        "    root = m\n",
        "    root_found = True\n",
        "    break\n",
        "  elif f(m)*f(a) < 0:\n",
        "    b = m\n",
        "  else:\n",
        "    a = m\n",
        "  m_old = m\n",
        "  m = (a+b)/2\n",
        "  if abs((m-m_old)/m) <= e:\n",
        "    root = m\n",
        "    root_found = True\n",
        "\n",
        "\n",
        "# print(list_a)\n",
        "# print(list_b)\n",
        "# print(list_m)\n",
        "# print(list_f)\n",
        "print(root)\n",
        "\n"
      ]
    },
    {
      "cell_type": "code",
      "execution_count": null,
      "metadata": {
        "deletable": false,
        "editable": false,
        "nbgrader": {
          "cell_type": "code",
          "checksum": "62d14c64cdf4fb8a8d96afa669625d11",
          "grade": true,
          "grade_id": "test_0",
          "locked": true,
          "points": 10,
          "schema_version": 3,
          "solution": false,
          "task": false
        },
        "id": "n80r3n_4qhOB"
      },
      "outputs": [],
      "source": [
        "xs = np.linspace(-2.5, 1.5, 100)\n",
        "ys = f(xs)"
      ]
    },
    {
      "cell_type": "code",
      "execution_count": null,
      "metadata": {
        "deletable": false,
        "editable": false,
        "nbgrader": {
          "cell_type": "code",
          "checksum": "d605d35c8e5cb989a20d59e7bf1dca54",
          "grade": true,
          "grade_id": "test",
          "locked": true,
          "points": 10,
          "schema_version": 3,
          "solution": false,
          "task": false
        },
        "id": "trVJZs-dqhOB"
      },
      "outputs": [],
      "source": [
        "plt.axhline(y=0, color='r')\n",
        "plt.plot(xs, ys,'y')\n",
        "plt.plot(root, f(root), 'go')\n",
        "\n",
        "print(pd.DataFrame({'a':list_a, 'b':list_b, 'm':list_m, 'f(m)':list_f}))\n",
        "\n",
        "assert \"{:.3f}\".format(root) == \"0.618\""
      ]
    },
    {
      "cell_type": "code",
      "execution_count": null,
      "metadata": {
        "id": "M5kTaH-6qhOC"
      },
      "outputs": [],
      "source": []
    },
    {
      "cell_type": "markdown",
      "metadata": {
        "deletable": false,
        "editable": false,
        "nbgrader": {
          "cell_type": "markdown",
          "checksum": "29cb42a7b7b359ce0df31faaa15748c5",
          "grade": false,
          "grade_id": "cell-3123123123",
          "locked": true,
          "schema_version": 3,
          "solution": false,
          "task": false
        },
        "id": "UZSMhHrPJr8w"
      },
      "source": [
        "# Part 2: Fixed Point Iteration\n",
        "\n",
        "### Fixed point:\n",
        "A number $\\xi$ is called a **fixed point** to function $g(x)$ if $g(\\xi) = \\xi$. Using fixed points are a nice strategy to find roots of an equation. In this method if we are trying to find a root of $f(x) = 0$, we try to write the function in the form, $x = g(x)$. That is,\n",
        "$$\n",
        "f(x) = x - g(x) = 0\n",
        "$$\n",
        "\n",
        "So, if $\\xi$ is a fixed point of $g(x)$ it would also be a root of $f(x)=0$, because,\n",
        "$$\n",
        "f(\\xi) = \\xi - g(\\xi) = \\xi - \\xi = 0\n",
        "$$\n",
        "\n",
        "We can find a suitable $g(x)$ in any number of ways. Not all of them would converge; whereas, some would converge very fast. For example, consider $Eq. 6.1$.\n",
        "\n",
        "\\begin{align}\n",
        "&         &    f(x) &=x^5 + 2.5x^4 - 2x^3 -6x^2 + x + 2 \\\\\n",
        "&\\implies &x - g(x) &=x^5 + 2.5x^4 - 2x^3 -6x^2 + x + 2 \\\\\n",
        "&\\implies &    g(x) &=-x^5 - 2.5x^4 + 2x^3 + 6x^2 - 2 \\tag{6.2}\\\\\n",
        "\\end{align}\n",
        "\n",
        "again,\n",
        "$$\n",
        "f(x) = x^5 + 2.5x^4 - 2x^3 -6x^2 + x + 2 = 0\\\\\n",
        "$$\n",
        "\\begin{align}\n",
        "&\\implies &6x^2 &= x^5 + 2.5x^4 - 2x^3 + x + 2 \\\\\n",
        "&\\implies &x^2  &= \\frac{1}{6}(x^5 + 2.5x^4 - 2x^3 + x + 2)\\\\\n",
        "&\\implies &x    &= \\sqrt{\\frac{1}{6}(x^5 + 2.5x^4 - 2x^3 + x + 2)}\\\\\n",
        "&\\implies &g(x) &= \\sqrt{\\frac{1}{6}(x^5 + 2.5x^4 - 2x^3 + x + 2)}\\tag{6.3}\\\\\n",
        "\\end{align}\n",
        "\n",
        "Similarly,\n",
        "\\begin{align}\n",
        "&         &2.5x^4 &= -x^5 + 2x^3 + 6x^2 - x - 2 \\\\\n",
        "&\\implies &x^4  &= \\frac{1}{2.5}(-x^5 + 2x^3 + 6x^2 - x - 2)\\\\\n",
        "&\\implies &x    &= \\sqrt[\\leftroot{-1}\\uproot{2}\\scriptstyle 4]{\\frac{1}{2.5}(-x^5 + 2x^3 + 6x^2 - x - 2)}\\\\\n",
        "&\\implies &g(x) &= \\sqrt[\\leftroot{-1}\\uproot{2}\\scriptstyle 4]{\\frac{1}{2.5}(-x^5 + 2x^3 + 6x^2 - x - 2)}\\tag{6.4}\\\\\n",
        "\\end{align}\n",
        "\n",
        "### B. Complete the code below\n",
        "For this example we will use a couple of $g(x)$ function to find out which one converges faster."
      ]
    },
    {
      "cell_type": "code",
      "execution_count": null,
      "metadata": {
        "deletable": false,
        "nbgrader": {
          "cell_type": "code",
          "checksum": "eea775d5231da9918220a769bc5d5d64",
          "grade": false,
          "grade_id": "cell-123123123",
          "locked": false,
          "schema_version": 3,
          "solution": true,
          "task": false
        },
        "id": "7aY87ZtEJr8w"
      },
      "outputs": [],
      "source": [
        "import numpy as np\n",
        "import pandas as pd\n",
        "import matplotlib.pyplot as plt\n",
        "from numpy.polynomial import Polynomial\n",
        "\n",
        "f = Polynomial([2.0, 1.0, -6.0, -2.0, 2.5, 1.0])\n",
        "g1 = Polynomial([-2.0, 0.0, 6.0, 2.0, -2.5, -1.0])\n",
        "\n",
        "def g2(x):\n",
        "    p = Polynomial([2.0, 1.0, 0.0, -2.0, 2.5, 1.0])\n",
        "    return np.sqrt(p(x)/6)\n",
        "\n",
        "def g3(x):\n",
        "    p = Polynomial([-2.0, -1.0, 6.0, 2.0, 0.0, -1.0])\n",
        "    return np.power(p(x)/2.5, 1.0/4.0)\n",
        "\n",
        "a1 = 0.80\n",
        "g1_a = []\n",
        "\n",
        "a2 = 0.80\n",
        "g2_a = []\n",
        "\n",
        "a3 = 0.80\n",
        "g3_a = []\n",
        "\n",
        "# YOUR CODE HERE\n",
        "for i in range(50):\n",
        "  g1_a.append(a1)\n",
        "  g2_a.append(a2)\n",
        "  g3_a.append(a3)\n",
        "\n",
        "  a1 = g1(a1)\n",
        "  a2 = g2(a2)\n",
        "  a3 = g3(a3)\n",
        "\n",
        "\n",
        "\n",
        "#raise NotImplementedError()"
      ]
    },
    {
      "cell_type": "code",
      "execution_count": null,
      "metadata": {
        "deletable": false,
        "editable": false,
        "nbgrader": {
          "cell_type": "code",
          "checksum": "6d9d325340af410ea2c95de0b2bbb1bc",
          "grade": true,
          "grade_id": "cell-48808fbb6733431f",
          "locked": true,
          "points": 15,
          "schema_version": 3,
          "solution": false,
          "task": false
        },
        "id": "oip1LLFPJr8y"
      },
      "outputs": [],
      "source": [
        "xs = np.linspace(-2.3, 1.5, 100)\n",
        "ys = f(xs)\n",
        "dictionary = {\n",
        "    'x': xs,\n",
        "    'y': ys\n",
        "}\n",
        "plt.axhline(y=0, color='r')\n",
        "plt.plot(xs, f(xs), label='f(x)', color='y')\n",
        "plt.plot(xs, g1(xs), label='g1(x)', color='g')\n",
        "plt.plot(xs, g2(xs), label='g2(x)', color ='b')\n",
        "plt.plot(xs, g3(xs), label='g3(x)', color = 'm' )\n",
        "plt.legend()\n",
        "\n",
        "if len(g1_a) > 0:\n",
        "    root = np.array([g1_a[len(g1_a)-1], g2_a[len(g2_a)-1], g3_a[len(g3_a)-1]])\n",
        "    plt.plot(root, f(root), 'ko')\n",
        "\n",
        "print(pd.DataFrame({'g1(x)':g1_a, 'g2(x)':g2_a, 'g3(x))':g3_a,}))\n",
        "\n",
        "# Test case:\n",
        "np.testing.assert_array_almost_equal(root, [-2, 0.67242436, 1.33033625])"
      ]
    },
    {
      "cell_type": "markdown",
      "source": [
        "**Problem related to Interval Bisection method:**\n",
        "\n",
        "Consider the following function: f(x) = x^3 + x^2 − 25x − 25.\n",
        "\n",
        "Use interval bisection method to find the root, x∗ of f(x), on the interval [−4, 3], where the error bound, δ = 10^-2."
      ],
      "metadata": {
        "id": "xwzVbN6HIniT"
      }
    },
    {
      "cell_type": "code",
      "source": [
        "f_x = Polynomial([-25.0,-25.0,1.0,1.0])\n",
        "# print(f_x)\n",
        "er_b = 1e-2\n",
        "a = -4\n",
        "b = 3\n",
        "m = (a+b)/2\n",
        "root = 0.0\n",
        "\n",
        "list_a=[]\n",
        "list_b=[]\n",
        "list_m=[]\n",
        "list_fx=[]\n",
        "\n",
        "root_found = False\n",
        "while not root_found:\n",
        "  list_a.append(a)\n",
        "  list_b.append(b)\n",
        "  list_m.append(m)\n",
        "  list_fx.append(f_x(m))\n",
        "\n",
        "  if f_x(m) == 0:\n",
        "    root = m\n",
        "    root_found = True\n",
        "    break\n",
        "  elif f_x(a)*f_x(m) < 0:\n",
        "    b = m\n",
        "  else:\n",
        "    a = m\n",
        "  m_old = m\n",
        "  m = (a+b)/2\n",
        "  if abs((m-m_old)/m) <= er_b:\n",
        "    root = m\n",
        "    root_found = True\n",
        "\n",
        "\n",
        "print(root)\n"
      ],
      "metadata": {
        "id": "1HFQNFretCyO"
      },
      "execution_count": null,
      "outputs": []
    }
  ],
  "metadata": {
    "kernelspec": {
      "display_name": "Python 3",
      "language": "python",
      "name": "python3"
    },
    "language_info": {
      "codemirror_mode": {
        "name": "ipython",
        "version": 3
      },
      "file_extension": ".py",
      "mimetype": "text/x-python",
      "name": "python",
      "nbconvert_exporter": "python",
      "pygments_lexer": "ipython3",
      "version": "3.7.4"
    },
    "colab": {
      "provenance": []
    }
  },
  "nbformat": 4,
  "nbformat_minor": 0
}